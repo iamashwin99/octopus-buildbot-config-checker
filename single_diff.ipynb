{
 "cells": [
  {
   "cell_type": "code",
   "execution_count": 1,
   "metadata": {},
   "outputs": [],
   "source": [
    "from config_diff import get_config_h, get_diff\n",
    "from rich.markdown import Markdown\n",
    "from rich import print as rprint"
   ]
  },
  {
   "cell_type": "code",
   "execution_count": 2,
   "metadata": {},
   "outputs": [
    {
     "data": {
      "text/html": [
       "<pre style=\"white-space:pre;overflow-x:auto;line-height:normal;font-family:Menlo,'DejaVu Sans Mono',consolas,'Courier New',monospace\"><span style=\"background-color: #000000\">                                                                                                                   \n",
       " </span><span style=\"color: #cd0000; text-decoration-color: #cd0000; background-color: #000000\">--- old</span><span style=\"background-color: #000000\">                                                                                                           </span>\n",
       "<span style=\"background-color: #000000\">                                                                                                                   </span>\n",
       "<span style=\"background-color: #000000\"> </span><span style=\"color: #00cd00; text-decoration-color: #00cd00; background-color: #000000\">+++ new</span><span style=\"background-color: #000000\">                                                                                                           </span>\n",
       "<span style=\"background-color: #000000\">                                                                                                                   </span>\n",
       "<span style=\"background-color: #000000\"> </span><span style=\"color: #800080; text-decoration-color: #800080; background-color: #000000; font-weight: bold\">@@ -1 +1 @@</span><span style=\"background-color: #000000\">                                                                                                       </span>\n",
       "<span style=\"background-color: #000000\">                                                                                                                   </span>\n",
       "<span style=\"background-color: #000000\"> </span><span style=\"color: #cd0000; text-decoration-color: #cd0000; background-color: #000000\">-http://mpsd-octopus-code-staging.desy.de/buildbot/#/builders/152/builds/12</span><span style=\"background-color: #000000\">                                       </span>\n",
       "<span style=\"background-color: #000000\"> </span><span style=\"color: #00cd00; text-decoration-color: #00cd00; background-color: #000000\">+https://www.octopus-code.org/buildbot/#/builders/37/builds/1831</span><span style=\"background-color: #000000\">                                                  </span>\n",
       "<span style=\"background-color: #000000\">                                                                                                                   \n",
       "</span></pre>\n"
      ],
      "text/plain": [
       "\u001b[48;2;0;0;0m                                                                                                                   \n",
       "\u001b[0m\u001b[48;2;0;0;0m \u001b[0m\u001b[38;2;205;0;0;48;2;0;0;0m--- old\u001b[0m\u001b[48;2;0;0;0m                                                                                                          \u001b[0m\u001b[48;2;0;0;0m \u001b[0m\n",
       "\u001b[48;2;0;0;0m \u001b[0m\u001b[48;2;0;0;0m                                                                                                                 \u001b[0m\u001b[48;2;0;0;0m \u001b[0m\n",
       "\u001b[48;2;0;0;0m \u001b[0m\u001b[38;2;0;205;0;48;2;0;0;0m+++ new\u001b[0m\u001b[48;2;0;0;0m                                                                                                          \u001b[0m\u001b[48;2;0;0;0m \u001b[0m\n",
       "\u001b[48;2;0;0;0m \u001b[0m\u001b[48;2;0;0;0m                                                                                                                 \u001b[0m\u001b[48;2;0;0;0m \u001b[0m\n",
       "\u001b[48;2;0;0;0m \u001b[0m\u001b[1;38;2;128;0;128;48;2;0;0;0m@@ -1 +1 @@\u001b[0m\u001b[48;2;0;0;0m                                                                                                      \u001b[0m\u001b[48;2;0;0;0m \u001b[0m\n",
       "\u001b[48;2;0;0;0m \u001b[0m\u001b[48;2;0;0;0m                                                                                                                 \u001b[0m\u001b[48;2;0;0;0m \u001b[0m\n",
       "\u001b[48;2;0;0;0m \u001b[0m\u001b[38;2;205;0;0;48;2;0;0;0m-http://mpsd-octopus-code-staging.desy.de/buildbot/#/builders/152/builds/12\u001b[0m\u001b[48;2;0;0;0m                                      \u001b[0m\u001b[48;2;0;0;0m \u001b[0m\n",
       "\u001b[48;2;0;0;0m \u001b[0m\u001b[38;2;0;205;0;48;2;0;0;0m+https://www.octopus-code.org/buildbot/#/builders/37/builds/1831\u001b[0m\u001b[48;2;0;0;0m                                                 \u001b[0m\u001b[48;2;0;0;0m \u001b[0m\n",
       "\u001b[48;2;0;0;0m                                                                                                                   \n",
       "\u001b[0m"
      ]
     },
     "execution_count": 2,
     "metadata": {},
     "output_type": "execute_result"
    }
   ],
   "source": [
    "get_diff(\"http://mpsd-octopus-code-staging.desy.de/buildbot/#/builders/152/builds/12\",\"https://www.octopus-code.org/buildbot/#/builders/37/builds/1831\")"
   ]
  },
  {
   "cell_type": "code",
   "execution_count": null,
   "metadata": {},
   "outputs": [],
   "source": []
  }
 ],
 "metadata": {
  "kernelspec": {
   "display_name": "Python 3",
   "language": "python",
   "name": "python3"
  },
  "language_info": {
   "codemirror_mode": {
    "name": "ipython",
    "version": 3
   },
   "file_extension": ".py",
   "mimetype": "text/x-python",
   "name": "python",
   "nbconvert_exporter": "python",
   "pygments_lexer": "ipython3",
   "version": "3.11.6"
  }
 },
 "nbformat": 4,
 "nbformat_minor": 2
}
