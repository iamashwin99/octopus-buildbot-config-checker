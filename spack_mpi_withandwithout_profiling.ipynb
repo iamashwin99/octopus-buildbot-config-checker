{
 "cells": [
  {
   "cell_type": "code",
   "execution_count": 2,
   "metadata": {},
   "outputs": [],
   "source": [
    "from config_diff import get_config_h, get_diff, get_config_h_diff\n",
    "from rich.markdown import Markdown\n",
    "from rich import print as rprint"
   ]
  },
  {
   "cell_type": "code",
   "execution_count": 4,
   "metadata": {},
   "outputs": [
    {
     "data": {
      "text/html": [
       "<pre style=\"white-space:pre;overflow-x:auto;line-height:normal;font-family:Menlo,'DejaVu Sans Mono',consolas,'Courier New',monospace\"><span style=\"color: #cd0000; text-decoration-color: #cd0000; background-color: #000000\">--- with profileing</span><span style=\"background-color: #000000\">                                                                                                </span>\n",
       "<span style=\"background-color: #000000\">                                                                                                                   </span>\n",
       "<span style=\"color: #00cd00; text-decoration-color: #00cd00; background-color: #000000\">+++ without profileing</span><span style=\"background-color: #000000\">                                                                                             </span>\n",
       "<span style=\"background-color: #000000\">                                                                                                                   </span>\n",
       "<span style=\"color: #800080; text-decoration-color: #800080; background-color: #000000; font-weight: bold\">@@ -2,7 +2,7 @@</span><span style=\"background-color: #000000\">                                                                                                    </span>\n",
       "<span style=\"background-color: #000000\">                                                                                                                   </span>\n",
       "<span style=\"color: #cccccc; text-decoration-color: #cccccc; background-color: #000000\"> /* config.h.in.  Generated from configure.ac by autoheader.  */</span><span style=\"background-color: #000000\">                                                   </span>\n",
       "<span style=\"color: #cccccc; text-decoration-color: #cccccc; background-color: #000000\"> </span><span style=\"background-color: #000000\">                                                                                                                  </span>\n",
       "<span style=\"color: #cccccc; text-decoration-color: #cccccc; background-color: #000000\"> /* date when configure was launched */</span><span style=\"background-color: #000000\">                                                                            </span>\n",
       "<span style=\"color: #cd0000; text-decoration-color: #cd0000; background-color: #000000\">-#define BUILD_TIME \"Mon Jan  1 23:25:52 CET 2024\"</span><span style=\"background-color: #000000\">                                                                 </span>\n",
       "<span style=\"color: #00cd00; text-decoration-color: #00cd00; background-color: #000000\">+#define BUILD_TIME \"Mon Jan  1 23:26:20 CET 2024\"</span><span style=\"background-color: #000000\">                                                                 </span>\n",
       "<span style=\"color: #cccccc; text-decoration-color: #cccccc; background-color: #000000\"> </span><span style=\"background-color: #000000\">                                                                                                                  </span>\n",
       "<span style=\"color: #cccccc; text-decoration-color: #cccccc; background-color: #000000\"> /* C compiler */</span><span style=\"background-color: #000000\">                                                                                                  </span>\n",
       "<span style=\"color: #cccccc; text-decoration-color: #cccccc; background-color: #000000\"> #define CC \"mpicc (gcc)\"</span><span style=\"background-color: #000000\">                                                                                          </span>\n",
       "<span style=\"color: #800080; text-decoration-color: #800080; background-color: #000000; font-weight: bold\">@@ -11,7 +11,7 @@</span><span style=\"background-color: #000000\">                                                                                                  </span>\n",
       "<span style=\"background-color: #000000\">                                                                                                                   </span>\n",
       "<span style=\"color: #cccccc; text-decoration-color: #cccccc; background-color: #000000\"> #define CC_FORTRAN_INT int</span><span style=\"background-color: #000000\">                                                                                        </span>\n",
       "<span style=\"color: #cccccc; text-decoration-color: #cccccc; background-color: #000000\"> </span><span style=\"background-color: #000000\">                                                                                                                  </span>\n",
       "<span style=\"color: #cccccc; text-decoration-color: #cccccc; background-color: #000000\"> /* C compiler flags */</span><span style=\"background-color: #000000\">                                                                                            </span>\n",
       "<span style=\"color: #cd0000; text-decoration-color: #cd0000; background-color: #000000\">-#define CFLAGS \"-Wall -O2 -march=native -ftest-coverage -fprofile-arcs\"</span><span style=\"background-color: #000000\">                                           </span>\n",
       "<span style=\"color: #00cd00; text-decoration-color: #00cd00; background-color: #000000\">+#define CFLAGS \"-Wall -O2 -march=native\"</span><span style=\"background-color: #000000\">                                                                          </span>\n",
       "<span style=\"color: #cccccc; text-decoration-color: #cccccc; background-color: #000000\"> </span><span style=\"background-color: #000000\">                                                                                                                  </span>\n",
       "<span style=\"color: #cccccc; text-decoration-color: #cccccc; background-color: #000000\"> /* C compiler flags (extra) */</span><span style=\"background-color: #000000\">                                                                                    </span>\n",
       "<span style=\"color: #cccccc; text-decoration-color: #cccccc; background-color: #000000\"> #define CFLAGS_EXTRA \"\"</span><span style=\"background-color: #000000\">                                                                                           </span>\n",
       "<span style=\"color: #800080; text-decoration-color: #800080; background-color: #000000; font-weight: bold\">@@ -20,7 +20,7 @@</span><span style=\"background-color: #000000\">                                                                                                  </span>\n",
       "<span style=\"background-color: #000000\">                                                                                                                   </span>\n",
       "<span style=\"color: #cccccc; text-decoration-color: #cccccc; background-color: #000000\"> #define CXX \"mpicxx (g++)\"</span><span style=\"background-color: #000000\">                                                                                        </span>\n",
       "<span style=\"color: #cccccc; text-decoration-color: #cccccc; background-color: #000000\"> </span><span style=\"background-color: #000000\">                                                                                                                  </span>\n",
       "<span style=\"color: #cccccc; text-decoration-color: #cccccc; background-color: #000000\"> /* C++ compiler flags */</span><span style=\"background-color: #000000\">                                                                                          </span>\n",
       "<span style=\"color: #cd0000; text-decoration-color: #cd0000; background-color: #000000\">-#define CXXFLAGS \"-Wall -O2 -march=native -ftest-coverage -fprofile-arcs\"</span><span style=\"background-color: #000000\">                                         </span>\n",
       "<span style=\"color: #00cd00; text-decoration-color: #00cd00; background-color: #000000\">+#define CXXFLAGS \"-Wall -O2 -march=native\"</span><span style=\"background-color: #000000\">                                                                        </span>\n",
       "<span style=\"color: #cccccc; text-decoration-color: #cccccc; background-color: #000000\"> </span><span style=\"background-color: #000000\">                                                                                                                  </span>\n",
       "<span style=\"color: #cccccc; text-decoration-color: #cccccc; background-color: #000000\"> /* C++ compiler flags (extra) */</span><span style=\"background-color: #000000\">                                                                                  </span>\n",
       "<span style=\"color: #cccccc; text-decoration-color: #cccccc; background-color: #000000\"> #define CXXFLAGS_EXTRA \"\"</span><span style=\"background-color: #000000\">                                                                                         </span>\n",
       "<span style=\"color: #800080; text-decoration-color: #800080; background-color: #000000; font-weight: bold\">@@ -35,10 +35,10 @@</span><span style=\"background-color: #000000\">                                                                                                </span>\n",
       "<span style=\"background-color: #000000\">                                                                                                                   </span>\n",
       "<span style=\"color: #cccccc; text-decoration-color: #cccccc; background-color: #000000\"> #define FC \"mpif90 (gfortran)\"</span><span style=\"background-color: #000000\">                                                                                    </span>\n",
       "<span style=\"color: #cccccc; text-decoration-color: #cccccc; background-color: #000000\"> </span><span style=\"background-color: #000000\">                                                                                                                  </span>\n",
       "<span style=\"color: #cccccc; text-decoration-color: #cccccc; background-color: #000000\"> /* Fortran compiler flags */</span><span style=\"background-color: #000000\">                                                                                      </span>\n",
       "<span style=\"color: #cd0000; text-decoration-color: #cd0000; background-color: #000000\">-#define FCFLAGS \"-Wall -Wno-maybe-uninitialized -Wno-surprising -O2 -march=native -fbacktrace </span><span style=\"background-color: #000000\">                    </span>\n",
       "<span style=\"color: #cd0000; text-decoration-color: #cd0000; background-color: #000000\">-fallow-argument-mismatch -ftest-coverage -\"</span><span style=\"background-color: #000000\">                                                                       </span>\n",
       "<span style=\"color: #00cd00; text-decoration-color: #00cd00; background-color: #000000\">+#define FCFLAGS \"-Wall -Wno-maybe-uninitialized -Wno-surprising -O2 -march=native -fbacktrace </span><span style=\"background-color: #000000\">                    </span>\n",
       "<span style=\"color: #00cd00; text-decoration-color: #00cd00; background-color: #000000\">-fallow-argument-mismatch\"</span><span style=\"background-color: #000000\">                                                                                         </span>\n",
       "<span style=\"color: #cccccc; text-decoration-color: #cccccc; background-color: #000000\"> </span><span style=\"background-color: #000000\">                                                                                                                  </span>\n",
       "<span style=\"color: #cccccc; text-decoration-color: #cccccc; background-color: #000000\"> /* Fortran compiler flags (extra) */</span><span style=\"background-color: #000000\">                                                                              </span>\n",
       "<span style=\"color: #cd0000; text-decoration-color: #cd0000; background-color: #000000\">-#define FCFLAGS_EXTRA \"fprofile-arcs\"</span><span style=\"background-color: #000000\">                                                                             </span>\n",
       "<span style=\"color: #00cd00; text-decoration-color: #00cd00; background-color: #000000\">+#define FCFLAGS_EXTRA \"\"</span><span style=\"background-color: #000000\">                                                                                          </span>\n",
       "<span style=\"color: #cccccc; text-decoration-color: #cccccc; background-color: #000000\"> </span><span style=\"background-color: #000000\">                                                                                                                  </span>\n",
       "<span style=\"color: #cccccc; text-decoration-color: #cccccc; background-color: #000000\"> /* compiler supports command line arguments */</span><span style=\"background-color: #000000\">                                                                    </span>\n",
       "<span style=\"color: #cccccc; text-decoration-color: #cccccc; background-color: #000000\"> #define FC_COMMAND_LINE_ARGUMENTS 2003</span><span style=\"background-color: #000000\">                                                                            </span>\n",
       "</pre>\n"
      ],
      "text/plain": [
       "\u001b[38;2;205;0;0;48;2;0;0;0m--- with profileing\u001b[0m\u001b[48;2;0;0;0m                                                                                                \u001b[0m\n",
       "\u001b[48;2;0;0;0m                                                                                                                   \u001b[0m\n",
       "\u001b[38;2;0;205;0;48;2;0;0;0m+++ without profileing\u001b[0m\u001b[48;2;0;0;0m                                                                                             \u001b[0m\n",
       "\u001b[48;2;0;0;0m                                                                                                                   \u001b[0m\n",
       "\u001b[1;38;2;128;0;128;48;2;0;0;0m@@ -2,7 +2,7 @@\u001b[0m\u001b[48;2;0;0;0m                                                                                                    \u001b[0m\n",
       "\u001b[48;2;0;0;0m                                                                                                                   \u001b[0m\n",
       "\u001b[38;2;204;204;204;48;2;0;0;0m \u001b[0m\u001b[38;2;204;204;204;48;2;0;0;0m/* config.h.in.  Generated from configure.ac by autoheader.  */\u001b[0m\u001b[48;2;0;0;0m                                                   \u001b[0m\n",
       "\u001b[38;2;204;204;204;48;2;0;0;0m \u001b[0m\u001b[48;2;0;0;0m                                                                                                                  \u001b[0m\n",
       "\u001b[38;2;204;204;204;48;2;0;0;0m \u001b[0m\u001b[38;2;204;204;204;48;2;0;0;0m/* date when configure was launched */\u001b[0m\u001b[48;2;0;0;0m                                                                            \u001b[0m\n",
       "\u001b[38;2;205;0;0;48;2;0;0;0m-#define BUILD_TIME \"Mon Jan  1 23:25:52 CET 2024\"\u001b[0m\u001b[48;2;0;0;0m                                                                 \u001b[0m\n",
       "\u001b[38;2;0;205;0;48;2;0;0;0m+#define BUILD_TIME \"Mon Jan  1 23:26:20 CET 2024\"\u001b[0m\u001b[48;2;0;0;0m                                                                 \u001b[0m\n",
       "\u001b[38;2;204;204;204;48;2;0;0;0m \u001b[0m\u001b[48;2;0;0;0m                                                                                                                  \u001b[0m\n",
       "\u001b[38;2;204;204;204;48;2;0;0;0m \u001b[0m\u001b[38;2;204;204;204;48;2;0;0;0m/* C compiler */\u001b[0m\u001b[48;2;0;0;0m                                                                                                  \u001b[0m\n",
       "\u001b[38;2;204;204;204;48;2;0;0;0m \u001b[0m\u001b[38;2;204;204;204;48;2;0;0;0m#define CC \"mpicc (gcc)\"\u001b[0m\u001b[48;2;0;0;0m                                                                                          \u001b[0m\n",
       "\u001b[1;38;2;128;0;128;48;2;0;0;0m@@ -11,7 +11,7 @@\u001b[0m\u001b[48;2;0;0;0m                                                                                                  \u001b[0m\n",
       "\u001b[48;2;0;0;0m                                                                                                                   \u001b[0m\n",
       "\u001b[38;2;204;204;204;48;2;0;0;0m \u001b[0m\u001b[38;2;204;204;204;48;2;0;0;0m#define CC_FORTRAN_INT int\u001b[0m\u001b[48;2;0;0;0m                                                                                        \u001b[0m\n",
       "\u001b[38;2;204;204;204;48;2;0;0;0m \u001b[0m\u001b[48;2;0;0;0m                                                                                                                  \u001b[0m\n",
       "\u001b[38;2;204;204;204;48;2;0;0;0m \u001b[0m\u001b[38;2;204;204;204;48;2;0;0;0m/* C compiler flags */\u001b[0m\u001b[48;2;0;0;0m                                                                                            \u001b[0m\n",
       "\u001b[38;2;205;0;0;48;2;0;0;0m-#define CFLAGS \"-Wall -O2 -march=native -ftest-coverage -fprofile-arcs\"\u001b[0m\u001b[48;2;0;0;0m                                           \u001b[0m\n",
       "\u001b[38;2;0;205;0;48;2;0;0;0m+#define CFLAGS \"-Wall -O2 -march=native\"\u001b[0m\u001b[48;2;0;0;0m                                                                          \u001b[0m\n",
       "\u001b[38;2;204;204;204;48;2;0;0;0m \u001b[0m\u001b[48;2;0;0;0m                                                                                                                  \u001b[0m\n",
       "\u001b[38;2;204;204;204;48;2;0;0;0m \u001b[0m\u001b[38;2;204;204;204;48;2;0;0;0m/* C compiler flags (extra) */\u001b[0m\u001b[48;2;0;0;0m                                                                                    \u001b[0m\n",
       "\u001b[38;2;204;204;204;48;2;0;0;0m \u001b[0m\u001b[38;2;204;204;204;48;2;0;0;0m#define CFLAGS_EXTRA \"\"\u001b[0m\u001b[48;2;0;0;0m                                                                                           \u001b[0m\n",
       "\u001b[1;38;2;128;0;128;48;2;0;0;0m@@ -20,7 +20,7 @@\u001b[0m\u001b[48;2;0;0;0m                                                                                                  \u001b[0m\n",
       "\u001b[48;2;0;0;0m                                                                                                                   \u001b[0m\n",
       "\u001b[38;2;204;204;204;48;2;0;0;0m \u001b[0m\u001b[38;2;204;204;204;48;2;0;0;0m#define CXX \"mpicxx (g++)\"\u001b[0m\u001b[48;2;0;0;0m                                                                                        \u001b[0m\n",
       "\u001b[38;2;204;204;204;48;2;0;0;0m \u001b[0m\u001b[48;2;0;0;0m                                                                                                                  \u001b[0m\n",
       "\u001b[38;2;204;204;204;48;2;0;0;0m \u001b[0m\u001b[38;2;204;204;204;48;2;0;0;0m/* C++ compiler flags */\u001b[0m\u001b[48;2;0;0;0m                                                                                          \u001b[0m\n",
       "\u001b[38;2;205;0;0;48;2;0;0;0m-#define CXXFLAGS \"-Wall -O2 -march=native -ftest-coverage -fprofile-arcs\"\u001b[0m\u001b[48;2;0;0;0m                                         \u001b[0m\n",
       "\u001b[38;2;0;205;0;48;2;0;0;0m+#define CXXFLAGS \"-Wall -O2 -march=native\"\u001b[0m\u001b[48;2;0;0;0m                                                                        \u001b[0m\n",
       "\u001b[38;2;204;204;204;48;2;0;0;0m \u001b[0m\u001b[48;2;0;0;0m                                                                                                                  \u001b[0m\n",
       "\u001b[38;2;204;204;204;48;2;0;0;0m \u001b[0m\u001b[38;2;204;204;204;48;2;0;0;0m/* C++ compiler flags (extra) */\u001b[0m\u001b[48;2;0;0;0m                                                                                  \u001b[0m\n",
       "\u001b[38;2;204;204;204;48;2;0;0;0m \u001b[0m\u001b[38;2;204;204;204;48;2;0;0;0m#define CXXFLAGS_EXTRA \"\"\u001b[0m\u001b[48;2;0;0;0m                                                                                         \u001b[0m\n",
       "\u001b[1;38;2;128;0;128;48;2;0;0;0m@@ -35,10 +35,10 @@\u001b[0m\u001b[48;2;0;0;0m                                                                                                \u001b[0m\n",
       "\u001b[48;2;0;0;0m                                                                                                                   \u001b[0m\n",
       "\u001b[38;2;204;204;204;48;2;0;0;0m \u001b[0m\u001b[38;2;204;204;204;48;2;0;0;0m#define FC \"mpif90 (gfortran)\"\u001b[0m\u001b[48;2;0;0;0m                                                                                    \u001b[0m\n",
       "\u001b[38;2;204;204;204;48;2;0;0;0m \u001b[0m\u001b[48;2;0;0;0m                                                                                                                  \u001b[0m\n",
       "\u001b[38;2;204;204;204;48;2;0;0;0m \u001b[0m\u001b[38;2;204;204;204;48;2;0;0;0m/* Fortran compiler flags */\u001b[0m\u001b[48;2;0;0;0m                                                                                      \u001b[0m\n",
       "\u001b[38;2;205;0;0;48;2;0;0;0m-#define FCFLAGS \"-Wall -Wno-maybe-uninitialized -Wno-surprising -O2 -march=native -fbacktrace \u001b[0m\u001b[48;2;0;0;0m                    \u001b[0m\n",
       "\u001b[38;2;205;0;0;48;2;0;0;0m-fallow-argument-mismatch -ftest-coverage -\"\u001b[0m\u001b[48;2;0;0;0m                                                                       \u001b[0m\n",
       "\u001b[38;2;0;205;0;48;2;0;0;0m+#define FCFLAGS \"-Wall -Wno-maybe-uninitialized -Wno-surprising -O2 -march=native -fbacktrace \u001b[0m\u001b[48;2;0;0;0m                    \u001b[0m\n",
       "\u001b[38;2;0;205;0;48;2;0;0;0m-fallow-argument-mismatch\"\u001b[0m\u001b[48;2;0;0;0m                                                                                         \u001b[0m\n",
       "\u001b[38;2;204;204;204;48;2;0;0;0m \u001b[0m\u001b[48;2;0;0;0m                                                                                                                  \u001b[0m\n",
       "\u001b[38;2;204;204;204;48;2;0;0;0m \u001b[0m\u001b[38;2;204;204;204;48;2;0;0;0m/* Fortran compiler flags (extra) */\u001b[0m\u001b[48;2;0;0;0m                                                                              \u001b[0m\n",
       "\u001b[38;2;205;0;0;48;2;0;0;0m-#define FCFLAGS_EXTRA \"fprofile-arcs\"\u001b[0m\u001b[48;2;0;0;0m                                                                             \u001b[0m\n",
       "\u001b[38;2;0;205;0;48;2;0;0;0m+#define FCFLAGS_EXTRA \"\"\u001b[0m\u001b[48;2;0;0;0m                                                                                          \u001b[0m\n",
       "\u001b[38;2;204;204;204;48;2;0;0;0m \u001b[0m\u001b[48;2;0;0;0m                                                                                                                  \u001b[0m\n",
       "\u001b[38;2;204;204;204;48;2;0;0;0m \u001b[0m\u001b[38;2;204;204;204;48;2;0;0;0m/* compiler supports command line arguments */\u001b[0m\u001b[48;2;0;0;0m                                                                    \u001b[0m\n",
       "\u001b[38;2;204;204;204;48;2;0;0;0m \u001b[0m\u001b[38;2;204;204;204;48;2;0;0;0m#define FC_COMMAND_LINE_ARGUMENTS 2003\u001b[0m\u001b[48;2;0;0;0m                                                                            \u001b[0m\n"
      ]
     },
     "execution_count": 4,
     "metadata": {},
     "output_type": "execute_result"
    }
   ],
   "source": [
    "left=\"https://www.octopus-code.org/buildbot/#/builders/102/builds/40\"\n",
    "right=\"https://www.octopus-code.org/buildbot/#/builders/170/builds/2\"\n",
    "get_config_h_diff(left,right,\"with profileing\",\"without profileing\")"
   ]
  },
  {
   "cell_type": "code",
   "execution_count": null,
   "metadata": {},
   "outputs": [],
   "source": []
  }
 ],
 "metadata": {
  "kernelspec": {
   "display_name": "Python 3",
   "language": "python",
   "name": "python3"
  },
  "language_info": {
   "codemirror_mode": {
    "name": "ipython",
    "version": 3
   },
   "file_extension": ".py",
   "mimetype": "text/x-python",
   "name": "python",
   "nbconvert_exporter": "python",
   "pygments_lexer": "ipython3",
   "version": "3.11.3"
  }
 },
 "nbformat": 4,
 "nbformat_minor": 2
}
